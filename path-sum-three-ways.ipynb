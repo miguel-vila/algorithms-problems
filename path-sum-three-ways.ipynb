{
 "cells": [
  {
   "cell_type": "code",
   "execution_count": 79,
   "metadata": {
    "collapsed": false,
    "scrolled": true
   },
   "outputs": [
    {
     "name": "stdout",
     "output_type": "stream",
     "text": [
      "sums_up = [673, 769, 1572, 2271, 3003]\n",
      "sums_up = [234, 576, 1322, 1819, 2343]\n",
      "sums_up = [103, 1068, 1490, 1611, 1648]\n",
      "sums_up = [18, 168, 279, 1235, 1566]\n",
      "!\n"
     ]
    }
   ],
   "source": [
    "# https://projecteuler.net/problem=82\n",
    "def sum_array_up(X):\n",
    "    S = [X[0]]\n",
    "    for x in X[1:]:\n",
    "        S.append(S[-1]+x)\n",
    "    return S\n",
    "def sum_array_down(X):\n",
    "    S = [X[-1]]\n",
    "    for i in range(len(X)-2,-1,-1):\n",
    "        S.append(S[-1]+X[i])\n",
    "    return S\n",
    "T = [\n",
    "    [131, 673, 234, 103, 18],\n",
    "    [201, 96, 342, 965, 150],\n",
    "    [630, 803, 746, 422, 111],\n",
    "    [537, 699, 497, 121, 956],\n",
    "    [805, 732, 524, 37, 331]\n",
    "]\n",
    "def i_column(i,A):\n",
    "    return [ row[i] for row in A]\n",
    "def path_sum(A):\n",
    "    M = [ row[0] for row in A ]\n",
    "    for j in range(1,len(A)):\n",
    "        col = i_column(j,A)\n",
    "        new = []\n",
    "        sums_up = sum_array_up(col)\n",
    "        print(\"sums_up = \"+str(sums_up))\n",
    "        for i in range(0,len(A[j])):\n",
    "            #print(sum(col[0:i]))\n",
    "            #print(0 if i==0 else sums_up[i-1])\n",
    "            #print(\"^up--------------\")\n",
    "            #print(\"expected = \" +str([ sum(col[i+1:h+1]) for h in range(i+1,len(col)) ]))\n",
    "            #print([sums_up[h]-sums_up[j+1]  for h in range(i+1,len(col))])\n",
    "            #print(\"^down--------------\")\n",
    "            going_down_sols = [ M[h] + (0 if i==0 else sums_up[i-1]) for h in range(0,i)]\n",
    "            going_up_sols = [ M[h] + sum(col[i+1:h+1]) for h in range(i+1,len(col))]\n",
    "            going_right_sol = M[i]\n",
    "            new.append(min(going_down_sols+going_up_sols+[going_right_sol]) + A[i][j])\n",
    "        M = new\n",
    "    return min(M)\n",
    "\n",
    "#with open('p082_matrix.txt','r') as file_handle:\n",
    "#    A = [map(lambda l: int(l.strip()),line.split(',')) for line in file_handle.readlines()]\n",
    "assert( path_sum(T) == 994 )\n",
    "#assert( path_sum(A) == 260324 )\n",
    "print(\"!\")"
   ]
  }
 ],
 "metadata": {
  "kernelspec": {
   "display_name": "Python 2",
   "language": "python",
   "name": "python2"
  },
  "language_info": {
   "codemirror_mode": {
    "name": "ipython",
    "version": 2
   },
   "file_extension": ".py",
   "mimetype": "text/x-python",
   "name": "python",
   "nbconvert_exporter": "python",
   "pygments_lexer": "ipython2",
   "version": "2.7.12"
  }
 },
 "nbformat": 4,
 "nbformat_minor": 1
}
