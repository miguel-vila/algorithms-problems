{
 "cells": [
  {
   "cell_type": "code",
   "execution_count": 10,
   "metadata": {
    "collapsed": false
   },
   "outputs": [
    {
     "data": {
      "text/plain": [
       "Tree { 4\n",
       "\tTree { 2\n",
       "\t\tLeaf(1)\n",
       "\t\tLeaf(3)\n",
       "\t}\n",
       "\tTree { 6\n",
       "\t\tLeaf(5)\n",
       "\t\tNone\n",
       "\t}\n",
       "}"
      ]
     },
     "execution_count": 10,
     "metadata": {},
     "output_type": "execute_result"
    }
   ],
   "source": [
    "# problem 4.2 Cracking the coding interview\n",
    "\n",
    "def add_tab(str):\n",
    "    return \"\\n\".join([ '\\t' + s for s in str.split(\"\\n\")])\n",
    "\n",
    "class TreeNode:\n",
    "    \n",
    "    def __init__(self,val,left=None,right=None):\n",
    "        self.val = val\n",
    "        self.left = left\n",
    "        self.right = right\n",
    "        \n",
    "    def __repr__(self):\n",
    "        if self.left == None and self.right == None:\n",
    "            return \"Leaf(\" + str(self.val) + \")\"\n",
    "        left = add_tab(\"None\" if self.left == None else str(self.left))\n",
    "        right = add_tab(\"None\" if self.right == None else str(self.right))\n",
    "        return \"Tree { \" + str(self.val)+\"\\n\"+left+\"\\n\"+right +\"\\n}\"\n",
    "    \n",
    "\n",
    "def from_sorted_array(A):\n",
    "    if len(A) == 0:\n",
    "        return None\n",
    "    if len(A) == 1:\n",
    "        return TreeNode(A[0])\n",
    "    mid = len(A) / 2\n",
    "    left  = from_sorted_array(A[:mid])\n",
    "    right = from_sorted_array(A[mid+1:])\n",
    "    return TreeNode(A[mid], left, right)\n",
    "\n",
    "\n",
    "T = TreeNode(4,\n",
    "        TreeNode(2,\n",
    "                TreeNode(1),\n",
    "                TreeNode(3)),\n",
    "        TreeNode(6,\n",
    "                TreeNode(5),\n",
    "                TreeNode(7)))\n",
    "\n",
    "A = [1,2,3,4,5,6]\n",
    "\n",
    "from_sorted_array(A)"
   ]
  }
 ],
 "metadata": {
  "kernelspec": {
   "display_name": "Python 2",
   "language": "python",
   "name": "python2"
  },
  "language_info": {
   "codemirror_mode": {
    "name": "ipython",
    "version": 2
   },
   "file_extension": ".py",
   "mimetype": "text/x-python",
   "name": "python",
   "nbconvert_exporter": "python",
   "pygments_lexer": "ipython2",
   "version": "2.7.12"
  }
 },
 "nbformat": 4,
 "nbformat_minor": 1
}
