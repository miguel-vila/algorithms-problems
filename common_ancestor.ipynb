{
 "cells": [
  {
   "cell_type": "code",
   "execution_count": 40,
   "metadata": {
    "collapsed": false
   },
   "outputs": [
    {
     "name": "stdout",
     "output_type": "stream",
     "text": [
      "Tree { a (parent = NONE) \n",
      "\tTree { b (parent = a) \n",
      "\t\tTree { c (parent = b) \n",
      "\t\t\tLeaf(x) -> parent = c\n",
      "\t\t\tLeaf(y) -> parent = c\n",
      "\t\t}\n",
      "\t\tLeaf(d) -> parent = b\n",
      "\t}\n",
      "\tTree { e (parent = a) \n",
      "\t\tLeaf(f) -> parent = e\n",
      "\t\tLeaf(g) -> parent = e\n",
      "\t}\n",
      "}\n"
     ]
    }
   ],
   "source": [
    "# exercise 4.7 ctci\n",
    "def add_tab(str):\n",
    "    return \"\\n\".join([ '\\t' + s for s in str.split(\"\\n\")])\n",
    "\n",
    "class Node:\n",
    "    def __init__(self,val,left,right):\n",
    "        self.val = val\n",
    "        \n",
    "        self.left = left\n",
    "        if(self.left != None):\n",
    "            self.left.parent = self\n",
    "        \n",
    "        self.right = right\n",
    "        if(self.right != None):\n",
    "            self.right.parent = self\n",
    "        \n",
    "        self.parent = None\n",
    "    \n",
    "    def parent_repr(self):\n",
    "        if self.parent == None:\n",
    "            return \"NONE\"\n",
    "        else:\n",
    "            return str(self.parent.val)\n",
    "    \n",
    "    def __repr__(self):\n",
    "        if self.left == None and self.right == None:\n",
    "            return \"Leaf(\" + str(self.val) + \") -> parent = \" + self.parent_repr()\n",
    "        left = add_tab(\"None\" if self.left == None else str(self.left))\n",
    "        right = add_tab(\"None\" if self.right == None else str(self.right))\n",
    "        return \"Tree { \" + str(self.val)+\" (parent = \" + self.parent_repr() + \") \\n\"+left+\"\\n\"+right +\"\\n}\"\n",
    "\n",
    "def Leaf(value):\n",
    "    return Node(value, None, None)\n",
    "    \n",
    "T = Node('a',\n",
    "        Node('b',\n",
    "            Node('c',\n",
    "                Leaf('x'),\n",
    "                Leaf('y')),\n",
    "            Leaf('d')\n",
    "        ),\n",
    "        Node('e',\n",
    "            Leaf('f'),\n",
    "            Leaf('g')\n",
    "        )\n",
    "    )\n",
    "\n",
    "print(T)\n",
    "\n",
    "def common_ancestor(A,B):\n",
    "    if A == B:\n",
    "        return (0,A)\n",
    "    has_some = lambda t: t[0] != None and t[1] != None\n",
    "    possible = filter(has_some,[\n",
    "        (A.parent,B.parent) ,\n",
    "        (A,B.parent) ,\n",
    "        (A.parent,B)\n",
    "    ])\n",
    "    possible_answers = map(lambda t: common_ancestor(t[0],t[1]), possible)\n",
    "    (height,ans) = min(possible_answers)\n",
    "    return (height+1,ans)\n",
    "\n",
    "A = T\n",
    "B = A.left\n",
    "C = B.left\n",
    "D = B.right\n",
    "E = A.right\n",
    "F = E.left\n",
    "X = C.left\n",
    "Y = C.right\n",
    "assert(common_ancestor(C,F)[1] == A)\n",
    "assert(common_ancestor(C,D)[1] == B)\n",
    "assert(common_ancestor(X,D)[1] == B)"
   ]
  }
 ],
 "metadata": {
  "kernelspec": {
   "display_name": "Python 2",
   "language": "python",
   "name": "python2"
  },
  "language_info": {
   "codemirror_mode": {
    "name": "ipython",
    "version": 2
   },
   "file_extension": ".py",
   "mimetype": "text/x-python",
   "name": "python",
   "nbconvert_exporter": "python",
   "pygments_lexer": "ipython2",
   "version": "2.7.12"
  }
 },
 "nbformat": 4,
 "nbformat_minor": 1
}
