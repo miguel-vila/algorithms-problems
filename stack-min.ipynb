{
 "cells": [
  {
   "cell_type": "code",
   "execution_count": 13,
   "metadata": {
    "collapsed": false
   },
   "outputs": [
    {
     "name": "stdout",
     "output_type": "stream",
     "text": [
      "11 -> 4 -> 12 -> 10 -> 7 -> None\n",
      "min=4\n",
      "12 -> 10 -> 7 -> None\n",
      "min=7\n"
     ]
    }
   ],
   "source": [
    "from sys import maxint\n",
    "\n",
    "#problem 3.2 Cracking the coding interview\n",
    "\n",
    "class StackNode:\n",
    "    \n",
    "    def __init__(self, val, next=None):\n",
    "        self.val = val\n",
    "        self.next = next\n",
    "        if next != None:\n",
    "            self.min = min(val, next.min)\n",
    "        else:\n",
    "            self.min = val\n",
    "            \n",
    "    def __str__(self):\n",
    "        return str(self.val) + \" -> \" + str(self.next)\n",
    "\n",
    "class Stack:\n",
    "    \n",
    "    def __init__(self):\n",
    "        self.head = None\n",
    "        \n",
    "    def push(self, val):\n",
    "        self.head = StackNode(val,self.head)\n",
    "    \n",
    "    def pop(self):\n",
    "        val = self.head.val\n",
    "        self.head = self.head.next\n",
    "        return val\n",
    "    \n",
    "    def min(self):\n",
    "        return self.head.min\n",
    "    \n",
    "    def __repr__(self):\n",
    "        return str(self.head) + \"\\nmin=\" + str(self.min())\n",
    "    \n",
    "s = Stack()\n",
    "s.push(7)\n",
    "s.push(10)\n",
    "s.push(12)\n",
    "s.push(4)\n",
    "s.push(11)\n",
    "print(s)\n",
    "s.pop()\n",
    "s.pop()\n",
    "print(s)"
   ]
  }
 ],
 "metadata": {
  "kernelspec": {
   "display_name": "Python 2",
   "language": "python",
   "name": "python2"
  },
  "language_info": {
   "codemirror_mode": {
    "name": "ipython",
    "version": 2
   },
   "file_extension": ".py",
   "mimetype": "text/x-python",
   "name": "python",
   "nbconvert_exporter": "python",
   "pygments_lexer": "ipython2",
   "version": "2.7.12"
  }
 },
 "nbformat": 4,
 "nbformat_minor": 1
}
