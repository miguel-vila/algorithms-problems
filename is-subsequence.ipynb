{
 "cells": [
  {
   "cell_type": "code",
   "execution_count": 19,
   "metadata": {
    "collapsed": false
   },
   "outputs": [],
   "source": [
    "# https://leetcode.com/problems/is-subsequence/\n",
    "class Solution(object):\n",
    "    def isSubsequence(self, s, t):\n",
    "        if len(s) == 0:\n",
    "            return True\n",
    "        Sub = len(s)*[False]\n",
    "        for i in range(len(t)):\n",
    "            new = []\n",
    "            for j in range(len(s)):\n",
    "                if s[j] == t[i]:\n",
    "                    new.append(Sub[j-1] if j != 0 else True)\n",
    "                else:\n",
    "                    new.append(Sub[j])\n",
    "            Sub = new\n",
    "        return Sub[-1]\n",
    "sol = Solution().isSubsequence\n",
    "assert(sol(\"abc\",\"ahbgdc\"))\n",
    "assert(not sol(\"abc\",\"ahxgdc\"))\n",
    "assert(sol(\"abcd\",\"ahbgdced\"))\n",
    "assert(not sol(\"abcdd\",\"ahbgdced\"))\n",
    "assert(not sol(\"abcdef\",\"abc\"))\n",
    "assert(sol(\"\",\"abc\"))\n",
    "assert(sol(\"\",\"\"))\n",
    "assert(not sol(\"abc\",\"\"))\n"
   ]
  }
 ],
 "metadata": {
  "kernelspec": {
   "display_name": "Python 2",
   "language": "python",
   "name": "python2"
  },
  "language_info": {
   "codemirror_mode": {
    "name": "ipython",
    "version": 2
   },
   "file_extension": ".py",
   "mimetype": "text/x-python",
   "name": "python",
   "nbconvert_exporter": "python",
   "pygments_lexer": "ipython2",
   "version": "2.7.12"
  }
 },
 "nbformat": 4,
 "nbformat_minor": 1
}
