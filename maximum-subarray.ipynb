{
 "cells": [
  {
   "cell_type": "code",
   "execution_count": 6,
   "metadata": {
    "collapsed": false
   },
   "outputs": [
    {
     "data": {
      "text/plain": [
       "0"
      ]
     },
     "execution_count": 6,
     "metadata": {},
     "output_type": "execute_result"
    }
   ],
   "source": [
    "# https://leetcode.com/problems/maximum-subarray/\n",
    "class Solution(object):\n",
    "    def maxSubArray(self, nums):\n",
    "        if len(nums) == 0:\n",
    "            return 0\n",
    "        M = [nums[0]]\n",
    "        for i in range(1,len(nums)):\n",
    "            M.append( max(nums[i] + M[i-1], nums[i]) )\n",
    "        return max(M)\n",
    "s = Solution()\n",
    "s.maxSubArray([])"
   ]
  }
 ],
 "metadata": {
  "kernelspec": {
   "display_name": "Python 2",
   "language": "python",
   "name": "python2"
  },
  "language_info": {
   "codemirror_mode": {
    "name": "ipython",
    "version": 2
   },
   "file_extension": ".py",
   "mimetype": "text/x-python",
   "name": "python",
   "nbconvert_exporter": "python",
   "pygments_lexer": "ipython2",
   "version": "2.7.12"
  }
 },
 "nbformat": 4,
 "nbformat_minor": 1
}
