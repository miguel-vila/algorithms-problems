{
 "cells": [
  {
   "cell_type": "code",
   "execution_count": 26,
   "metadata": {
    "collapsed": false
   },
   "outputs": [],
   "source": [
    "# https://leetcode.com/problems/best-time-to-buy-and-sell-stock/\n",
    "class Solution(object):\n",
    "\n",
    "    def min_array(self,prices):\n",
    "        M = [prices[0]]\n",
    "        for i in range(1,len(prices)):\n",
    "            M.append(prices[i] if prices[i] < M[-1] else M[-1])\n",
    "        return M\n",
    "\n",
    "    def maxProfit(self,prices):\n",
    "        if prices == []:\n",
    "            return 0\n",
    "        Min = self.min_array(prices)\n",
    "        S = [0]\n",
    "        for i in range(1,len(prices)):\n",
    "            S.append(max(\n",
    "                    S[-1],\n",
    "                    prices[i] - Min[i-1]\n",
    "            ))\n",
    "        return S[-1]\n",
    "\n",
    "s = Solution()\n",
    "    \n",
    "assert(s.maxProfit([7, 1, 5, 3, 6, 4]) == 5)\n",
    "assert(s.maxProfit([7, 6, 4, 3, 1]) == 0)\n",
    "assert(s.maxProfit([3,2]) == 0)\n",
    "assert(s.maxProfit([]) == 0)"
   ]
  }
 ],
 "metadata": {
  "kernelspec": {
   "display_name": "Python 2",
   "language": "python",
   "name": "python2"
  },
  "language_info": {
   "codemirror_mode": {
    "name": "ipython",
    "version": 2
   },
   "file_extension": ".py",
   "mimetype": "text/x-python",
   "name": "python",
   "nbconvert_exporter": "python",
   "pygments_lexer": "ipython2",
   "version": "2.7.12"
  }
 },
 "nbformat": 4,
 "nbformat_minor": 1
}
