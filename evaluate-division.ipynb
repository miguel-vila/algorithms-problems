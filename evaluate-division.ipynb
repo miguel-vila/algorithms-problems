{
 "cells": [
  {
   "cell_type": "code",
   "execution_count": 27,
   "metadata": {
    "collapsed": false
   },
   "outputs": [
    {
     "data": {
      "text/plain": [
       "[-1.0, -1.0, 1.0, 1.0]"
      ]
     },
     "execution_count": 27,
     "metadata": {},
     "output_type": "execute_result"
    }
   ],
   "source": [
    "#https://leetcode.com/problems/evaluate-division/\n",
    "from collections import deque\n",
    "\n",
    "class Solution(object):\n",
    "    def calcEquation(self, equations, values, queries):\n",
    "        \"\"\"\n",
    "        :type equations: List[List[str]]\n",
    "        :type values: List[float]\n",
    "        :type queries: List[List[str]]\n",
    "        :rtype: List[float]\n",
    "        \"\"\"\n",
    "        vertices = {}\n",
    "        for i, terms in enumerate(equations):\n",
    "            for t in terms:\n",
    "                if not t in vertices:\n",
    "                    vertices[t] = {}\n",
    "            vertices[terms[0]][terms[1]] = values[i]\n",
    "            vertices[terms[1]][terms[0]] = 1.0/values[i]\n",
    "        \n",
    "        r = []\n",
    "        for s,e in queries:\n",
    "            if not s in vertices or not e in vertices:\n",
    "                r.append(-1.0)\n",
    "                continue\n",
    "            if s == e:\n",
    "                r.append(1.0)\n",
    "                continue\n",
    "            \n",
    "            q = deque([s])\n",
    "            pred = {}\n",
    "            visited = {}\n",
    "            while len(q) > 0:\n",
    "                x = q.popleft()\n",
    "                if x == e:\n",
    "                    break\n",
    "                for n, div in vertices[x].iteritems():\n",
    "                    if n not in visited:\n",
    "                        visited[n] = True\n",
    "                        q.append(n)\n",
    "                        pred[n] = x\n",
    "            answ = 1.0\n",
    "            x = e\n",
    "            there_is_sol = True\n",
    "            while x != s and there_is_sol:\n",
    "                if not x in pred:\n",
    "                    there_is_sol = False\n",
    "                    break\n",
    "                answ*= vertices[pred[x]][x]\n",
    "                x = pred[x]\n",
    "            if not there_is_sol:\n",
    "                r.append(-1.0)\n",
    "            else:\n",
    "                r.append(answ)\n",
    "        return r\n",
    "        \n",
    "s = Solution().calcEquation\n",
    "#equations = [ [\"a\", \"b\"], [\"b\", \"c\"] ]\n",
    "#values = [2.0, 3.0]\n",
    "#queries = [ [\"a\", \"c\"], [\"b\", \"a\"], [\"a\", \"e\"], [\"a\", \"a\"], [\"x\", \"x\"] ]\n",
    "#s(equations,values,queries)\n",
    "\n",
    "s([[\"a\",\"b\"],[\"c\",\"d\"]], [1.0,1.0],[[\"a\",\"c\"],[\"b\",\"d\"],[\"b\",\"a\"],[\"d\",\"c\"]])"
   ]
  }
 ],
 "metadata": {
  "kernelspec": {
   "display_name": "Python 2",
   "language": "python",
   "name": "python2"
  },
  "language_info": {
   "codemirror_mode": {
    "name": "ipython",
    "version": 2
   },
   "file_extension": ".py",
   "mimetype": "text/x-python",
   "name": "python",
   "nbconvert_exporter": "python",
   "pygments_lexer": "ipython2",
   "version": "2.7.12"
  }
 },
 "nbformat": 4,
 "nbformat_minor": 1
}
