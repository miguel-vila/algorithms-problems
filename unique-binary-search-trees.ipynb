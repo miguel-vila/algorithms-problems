{
 "cells": [
  {
   "cell_type": "code",
   "execution_count": 72,
   "metadata": {
    "collapsed": false
   },
   "outputs": [
    {
     "name": "stdout",
     "output_type": "stream",
     "text": [
      "Success!\n"
     ]
    }
   ],
   "source": [
    "#https://leetcode.com/problems/unique-binary-search-trees/\n",
    "class Solution(object):\n",
    "    def numTrees(self, n):\n",
    "        S = [1]\n",
    "        for i in range(1,n):\n",
    "            total = 0\n",
    "            for j in range(0,i+1):\n",
    "                if j == 0 or j == i:\n",
    "                    increase = S[-1]\n",
    "                    total += increase\n",
    "                else:\n",
    "                    increase = S[j-1]*S[i-j-1]\n",
    "                    total += increase\n",
    "            S.append(total)\n",
    "        return S[-1]\n",
    "\n",
    "s = Solution().numTrees\n",
    "\n",
    "assert(s(1) == 1)\n",
    "assert(s(2) == 2)\n",
    "assert(s(3) == 5)\n",
    "assert(s(4) == 14)\n",
    "assert(s(5) == 42)\n",
    "\n",
    "print \"Success!\""
   ]
  }
 ],
 "metadata": {
  "kernelspec": {
   "display_name": "Python 2",
   "language": "python",
   "name": "python2"
  },
  "language_info": {
   "codemirror_mode": {
    "name": "ipython",
    "version": 2
   },
   "file_extension": ".py",
   "mimetype": "text/x-python",
   "name": "python",
   "nbconvert_exporter": "python",
   "pygments_lexer": "ipython2",
   "version": "2.7.12"
  }
 },
 "nbformat": 4,
 "nbformat_minor": 1
}
