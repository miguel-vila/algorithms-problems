{
 "cells": [
  {
   "cell_type": "code",
   "execution_count": 4,
   "id": "basic-english",
   "metadata": {},
   "outputs": [
    {
     "name": "stdout",
     "output_type": "stream",
     "text": [
      "(0, 1)\n",
      "(1, 2)\n",
      "(2, 3)\n",
      "---\n",
      "(0, 2)\n",
      "(1, 3)\n",
      "---\n",
      "(0, 3)\n",
      "---\n",
      "[[1, 0, 0], [0, 1, 0], [0, 0, 1]]\n"
     ]
    }
   ],
   "source": [
    "class Solution(object):\n",
    "    def longestPalindrome(self, s):\n",
    "        \"\"\"\n",
    "        :type s: str\n",
    "        :rtype: str\n",
    "           0123\n",
    "         i/cbbd\n",
    "        j\n",
    "        /  ----\n",
    "       0c |10\n",
    "       1b |110\n",
    "       2b | 210\n",
    "       3d |   1\n",
    "       \n",
    "       m(cb) = m(c)\n",
    "       \n",
    "       m(i,j) = if s[i] == s[j] then 1 + m[i-1][j-1] else max(m[0][j-1], m[i-1][len(s)-1])\n",
    "       \n",
    "        \"\"\"\n",
    "        m = [ [0 for _ in s] for _ in s ]\n",
    "        for i in range(len(s)):\n",
    "            m[i][i] = 1\n",
    "        d_j = 1\n",
    "        for d_j in range(1,len(s)+1):\n",
    "            for i in range(0, len(s)-d_j+1):\n",
    "                j = d_j + i\n",
    "                print(str((i,j)))\n",
    "            print('-'*3)\n",
    "        print(m)\n",
    "        \n",
    "Solution().longestPalindrome(\"abc\")"
   ]
  }
 ],
 "metadata": {
  "kernelspec": {
   "display_name": "Python 3",
   "language": "python",
   "name": "python3"
  },
  "language_info": {
   "codemirror_mode": {
    "name": "ipython",
    "version": 3
   },
   "file_extension": ".py",
   "mimetype": "text/x-python",
   "name": "python",
   "nbconvert_exporter": "python",
   "pygments_lexer": "ipython3",
   "version": "3.8.5"
  }
 },
 "nbformat": 4,
 "nbformat_minor": 5
}
