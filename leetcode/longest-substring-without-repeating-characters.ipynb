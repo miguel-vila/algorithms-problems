{
 "cells": [
  {
   "cell_type": "code",
   "execution_count": 2,
   "id": "practical-enterprise",
   "metadata": {},
   "outputs": [
    {
     "data": {
      "text/plain": [
       "3"
      ]
     },
     "execution_count": 2,
     "metadata": {},
     "output_type": "execute_result"
    }
   ],
   "source": [
    "class Solution(object):\n",
    "    def lengthOfLongestSubstring(self, s):\n",
    "        l,r =0,0\n",
    "        seen=set()\n",
    "        i = 0\n",
    "        max_l = 0\n",
    "        while r < len(s):\n",
    "            while r < len(s) and not (s[r] in seen):\n",
    "                seen.add(s[r])\n",
    "                r+=1\n",
    "            max_l = max(max_l, len(seen))\n",
    "            seen.remove(s[l])\n",
    "            l += 1\n",
    "        return max_l\n",
    "    \n",
    "Solution().lengthOfLongestSubstring(\"avb\")"
   ]
  }
 ],
 "metadata": {
  "kernelspec": {
   "display_name": "Python 3",
   "language": "python",
   "name": "python3"
  },
  "language_info": {
   "codemirror_mode": {
    "name": "ipython",
    "version": 3
   },
   "file_extension": ".py",
   "mimetype": "text/x-python",
   "name": "python",
   "nbconvert_exporter": "python",
   "pygments_lexer": "ipython3",
   "version": "3.8.5"
  }
 },
 "nbformat": 4,
 "nbformat_minor": 5
}
