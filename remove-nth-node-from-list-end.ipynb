{
 "cells": [
  {
   "cell_type": "code",
   "execution_count": 3,
   "metadata": {
    "collapsed": true
   },
   "outputs": [],
   "source": [
    "class ListNode:\n",
    "    def __init__(self, x, next = None):\n",
    "        self.val = x\n",
    "        self.next = next\n",
    "    def __repr__(self):\n",
    "        return str(self.val) + \" -> \" + str(self.next)"
   ]
  },
  {
   "cell_type": "code",
   "execution_count": 51,
   "metadata": {
    "collapsed": false
   },
   "outputs": [
    {
     "name": "stdout",
     "output_type": "stream",
     "text": [
      "1 -> 2 -> 3 -> 4 -> 5 -> None\n"
     ]
    },
    {
     "data": {
      "text/plain": [
       "1 -> 3 -> 4 -> 5 -> None"
      ]
     },
     "execution_count": 51,
     "metadata": {},
     "output_type": "execute_result"
    }
   ],
   "source": [
    "class Solution:\n",
    "    # @param A : head node of linked list\n",
    "    # @param B : integer\n",
    "    # @return the head node in the linked list\n",
    "    def removeNthFromEnd(self,A,n):\n",
    "        curr = A\n",
    "        prev = None\n",
    "        i = 0\n",
    "        forward = None\n",
    "        while i < n:\n",
    "            if curr == None:\n",
    "                return A.next\n",
    "            prev = curr\n",
    "            curr = curr.next\n",
    "            i += 1\n",
    "        forward = prev.next\n",
    "        curr = A\n",
    "        prev = None\n",
    "        while forward != None:\n",
    "            prev = curr\n",
    "            curr = curr.next\n",
    "            forward = forward.next\n",
    "        if prev == None:\n",
    "            return A.next\n",
    "        prev.next = prev.next.next if prev.next != None else None\n",
    "        return A\n",
    "\n",
    "\n",
    "s = Solution()\n",
    "A = ListNode(1, \n",
    "             ListNode(2, \n",
    "                      ListNode(3, \n",
    "                               ListNode(4, \n",
    "                                        ListNode(5, \n",
    "                                                 None\n",
    "                                                )\n",
    "                                       )\n",
    "                              )\n",
    "                     )\n",
    "            )\n",
    "print(A)\n",
    "s.removeNthFromEnd(A,4)"
   ]
  },
  {
   "cell_type": "code",
   "execution_count": 40,
   "metadata": {
    "collapsed": false
   },
   "outputs": [
    {
     "name": "stdout",
     "output_type": "stream",
     "text": [
      "24\n",
      "-58\n"
     ]
    }
   ],
   "source": [
    "x = [ 20 , 380 , 349 , 322 , 389 , 424 , 429 , 120 , 64 , 691 , 677 , 58 , 327 , 631 , 916 , 203 , 484 , 918 , 596 , 252 , 509 , 644 , 33 , 460 ]\n",
    "print(len(x))\n",
    "print(len(x) - 82)\n"
   ]
  }
 ],
 "metadata": {
  "kernelspec": {
   "display_name": "Python 2",
   "language": "python",
   "name": "python2"
  },
  "language_info": {
   "codemirror_mode": {
    "name": "ipython",
    "version": 2
   },
   "file_extension": ".py",
   "mimetype": "text/x-python",
   "name": "python",
   "nbconvert_exporter": "python",
   "pygments_lexer": "ipython2",
   "version": "2.7.12"
  }
 },
 "nbformat": 4,
 "nbformat_minor": 1
}
