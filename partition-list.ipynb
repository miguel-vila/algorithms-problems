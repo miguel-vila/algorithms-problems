{
 "cells": [
  {
   "cell_type": "code",
   "execution_count": 26,
   "metadata": {
    "collapsed": false
   },
   "outputs": [
    {
     "name": "stdout",
     "output_type": "stream",
     "text": [
      "1 -> 4 -> 3 -> 2 -> 5 -> 2 -> None\n"
     ]
    },
    {
     "data": {
      "text/plain": [
       "1 -> 4 -> 3 -> 2 -> 5 -> 2 -> None"
      ]
     },
     "execution_count": 26,
     "metadata": {},
     "output_type": "execute_result"
    }
   ],
   "source": [
    "class ListNode:\n",
    "    def __init__(self, x, next = None):\n",
    "        self.val = x\n",
    "        self.next = next\n",
    "    def __repr__(self):\n",
    "        return str(self.val) + \" -> \" + str(self.next)\n",
    "    \n",
    "class Solution:\n",
    "    # @param A : head node of linked list\n",
    "    # @param B : integer\n",
    "    # @return the head node in the linked list\n",
    "    def partition(self, A, n):\n",
    "        curr = A\n",
    "        lesser = None\n",
    "        greater = None\n",
    "        greater_root = None\n",
    "        root = None\n",
    "        while curr != None:\n",
    "            if curr.val < n:\n",
    "                new_node = ListNode(curr.val)\n",
    "                if lesser != None:\n",
    "                    lesser.next = new_node\n",
    "                else:\n",
    "                    root = new_node\n",
    "                lesser = new_node\n",
    "            elif curr.val >= n:\n",
    "                new_node = ListNode(curr.val)\n",
    "                if greater != None:\n",
    "                    greater.next = new_node\n",
    "                else:\n",
    "                    greater_root = new_node\n",
    "                greater = new_node\n",
    "            curr = curr.next\n",
    "        if lesser == None:\n",
    "            return A\n",
    "        else:\n",
    "            lesser.next = greater_root\n",
    "            return root\n",
    "A = ListNode(1,\n",
    "            ListNode(4,\n",
    "                    ListNode(3,\n",
    "                            ListNode(2,\n",
    "                                    ListNode(5,\n",
    "                                             ListNode(2,None))))))\n",
    "s = Solution()\n",
    "print(A)\n",
    "s.partition(A,10)"
   ]
  }
 ],
 "metadata": {
  "kernelspec": {
   "display_name": "Python 2",
   "language": "python",
   "name": "python2"
  },
  "language_info": {
   "codemirror_mode": {
    "name": "ipython",
    "version": 2
   },
   "file_extension": ".py",
   "mimetype": "text/x-python",
   "name": "python",
   "nbconvert_exporter": "python",
   "pygments_lexer": "ipython2",
   "version": "2.7.12"
  }
 },
 "nbformat": 4,
 "nbformat_minor": 1
}
