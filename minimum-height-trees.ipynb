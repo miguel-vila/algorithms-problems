{
 "cells": [
  {
   "cell_type": "code",
   "execution_count": 19,
   "metadata": {
    "collapsed": false
   },
   "outputs": [
    {
     "name": "stdout",
     "output_type": "stream",
     "text": [
      "YEAH!\n"
     ]
    }
   ],
   "source": [
    "# https://leetcode.com/problems/minimum-height-trees/\n",
    "import sys\n",
    "\n",
    "def print_mat(S):\n",
    "    for r in S:\n",
    "        print r\n",
    "\n",
    "class Solution(object):\n",
    "    def findMinHeightTrees(self, n, edges):\n",
    "        \"\"\"\n",
    "        :type n: int\n",
    "        :type edges: List[List[int]]\n",
    "        :rtype: List[int]\n",
    "        \"\"\"\n",
    "        S = [[sys.maxint for _ in range(n)] for _ in range(n)]\n",
    "        for i in range(n):\n",
    "            S[i][i] = 0\n",
    "        for x,y in edges:\n",
    "            S[x][y] = S[y][x] = 1\n",
    "        for k in range(n):\n",
    "            for i in range(n):\n",
    "                for j in range(n):\n",
    "                    S[i][j] = min(S[i][j], S[i][k] + S[k][j])\n",
    "        min_max_dist = sys.maxint\n",
    "        nodes = []\n",
    "        #print_mat( S)\n",
    "        for i in range(n):\n",
    "            max_dist = S[i][0]\n",
    "            for j in range(1,n):\n",
    "                max_dist = max(max_dist, S[i][j])\n",
    "            #print \"max dist = {} for  {}\".format(max_dist,i)\n",
    "            if max_dist < min_max_dist:\n",
    "                nodes = [i]\n",
    "                min_max_dist = max_dist\n",
    "            elif max_dist == min_max_dist:\n",
    "                nodes.append(i)\n",
    "        return nodes\n",
    "        \n",
    "s = Solution().findMinHeightTrees\n",
    "\n",
    "assert(s(4, [[1, 0], [1, 2], [1, 3]]) == [1])\n",
    "assert(s(6, [[0, 3], [1, 3], [2, 3], [4, 3], [5, 4]]) == [3,4])\n",
    "print \"YEAH!\""
   ]
  },
  {
   "cell_type": "code",
   "execution_count": 22,
   "metadata": {
    "collapsed": false
   },
   "outputs": [
    {
     "data": {
      "text/plain": [
       "[2, 8]"
      ]
     },
     "execution_count": 22,
     "metadata": {},
     "output_type": "execute_result"
    }
   ],
   "source": [
    "n = 147\n",
    "edges = [[0,1],[1,2],[0,3],[3,4],[2,5],[5,6],[1,7],[2,8],[0,9],[1,10],[8,11],[8,12],[6,13],[11,14],[12,15],[9,16],[14,17],[4,18],[4,19],[15,20],[20,21],[2,22],[8,23],[14,24],[15,25],[21,26],[18,27],[21,28],[24,29],[14,30],[27,31],[20,32],[21,33],[29,34],[27,35],[0,36],[19,37],[3,38],[19,39],[26,40],[17,41],[40,42],[24,43],[29,44],[31,45],[8,46],[10,47],[5,48],[33,49],[18,50],[3,51],[17,52],[34,53],[0,54],[2,55],[16,56],[46,57],[53,58],[27,59],[1,60],[21,61],[44,62],[9,63],[40,64],[12,65],[63,66],[27,67],[62,68],[7,69],[24,70],[34,71],[26,72],[20,73],[35,74],[48,75],[73,76],[65,77],[0,78],[6,79],[74,80],[70,81],[39,82],[23,83],[28,84],[56,85],[56,86],[49,87],[8,88],[56,89],[14,90],[9,91],[43,92],[65,93],[84,94],[75,95],[28,96],[5,97],[49,98],[94,99],[8,100],[92,101],[93,102],[77,103],[83,104],[63,105],[61,106],[32,107],[54,108],[44,109],[29,110],[68,111],[110,112],[12,113],[49,114],[31,115],[53,116],[53,117],[39,118],[90,119],[2,120],[114,121],[69,122],[110,123],[120,124],[90,125],[121,126],[61,127],[9,128],[47,129],[123,130],[25,131],[89,132],[77,133],[127,134],[12,135],[63,136],[84,137],[101,138],[98,139],[40,140],[112,141],[19,142],[55,143],[88,144],[49,145],[95,146]]\n",
    "\n",
    "s(n, edges)"
   ]
  }
 ],
 "metadata": {
  "kernelspec": {
   "display_name": "Python 2",
   "language": "python",
   "name": "python2"
  },
  "language_info": {
   "codemirror_mode": {
    "name": "ipython",
    "version": 2
   },
   "file_extension": ".py",
   "mimetype": "text/x-python",
   "name": "python",
   "nbconvert_exporter": "python",
   "pygments_lexer": "ipython2",
   "version": "2.7.12"
  }
 },
 "nbformat": 4,
 "nbformat_minor": 1
}
