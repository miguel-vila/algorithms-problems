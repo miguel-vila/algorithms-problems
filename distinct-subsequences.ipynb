{
 "cells": [
  {
   "cell_type": "code",
   "execution_count": 18,
   "metadata": {
    "collapsed": false
   },
   "outputs": [
    {
     "name": "stdout",
     "output_type": "stream",
     "text": [
      "success!\n"
     ]
    }
   ],
   "source": [
    "# https://leetcode.com/problems/distinct-subsequences/\n",
    "class Solution(object):\n",
    "    def numDistinct(self, s, t):\n",
    "        \"\"\"\n",
    "        :type s: str\n",
    "        :type t: str\n",
    "        :rtype: int\n",
    "        \"\"\"\n",
    "        if len(s) == 0 or len(t) == 0:\n",
    "            return 0\n",
    "        S = [ 1 if s[0] == t[0] else 0 ] + [0]*(len(t) - 1)\n",
    "        column = []\n",
    "        count = 0\n",
    "        for c in s:\n",
    "            if c == t[0]:\n",
    "                count+=1\n",
    "            column.append(count)\n",
    "        #print column\n",
    "        for i in range(1, len(s)):\n",
    "            new_S = [column[i]]\n",
    "            for j in range(1, len(t)):\n",
    "                if s[i] == t[j]:\n",
    "                    new_S.append( S[j] + S[j-1] )\n",
    "                else:\n",
    "                    new_S.append( S[j] )\n",
    "            S = new_S\n",
    "        #print S\n",
    "        return S[-1]\n",
    "        \n",
    "s = Solution().numDistinct\n",
    "assert(s(\"rabbbbit\",\"bb\") == 6)\n",
    "assert(s(\"rabbbbit\",\"rabbit\") == 6)\n",
    "assert(s(\"\",\"r\") == 0)\n",
    "assert(s(\"r\",\"\") == 0)\n",
    "print \"success!\""
   ]
  }
 ],
 "metadata": {
  "kernelspec": {
   "display_name": "Python 2",
   "language": "python",
   "name": "python2"
  },
  "language_info": {
   "codemirror_mode": {
    "name": "ipython",
    "version": 2
   },
   "file_extension": ".py",
   "mimetype": "text/x-python",
   "name": "python",
   "nbconvert_exporter": "python",
   "pygments_lexer": "ipython2",
   "version": "2.7.12"
  }
 },
 "nbformat": 4,
 "nbformat_minor": 1
}
