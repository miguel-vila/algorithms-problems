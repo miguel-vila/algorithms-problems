{
 "cells": [
  {
   "cell_type": "code",
   "execution_count": 1,
   "metadata": {
    "collapsed": true
   },
   "outputs": [],
   "source": [
    "class ListNode:\n",
    "    def __init__(self, x, next = None):\n",
    "        self.val = x\n",
    "        self.next = next\n",
    "    def __repr__(self):\n",
    "        return str(self.val) + \" -> \" + str(self.next)"
   ]
  },
  {
   "cell_type": "code",
   "execution_count": 13,
   "metadata": {
    "collapsed": false
   },
   "outputs": [
    {
     "name": "stdout",
     "output_type": "stream",
     "text": [
      "1 -> 2 -> 3 -> 4 -> 5 -> None\n",
      "1 -> 2 -> 4 -> 5 -> None\n",
      "1 -> 2 -> 3 -> None\n",
      "1 -> 3 -> None\n"
     ]
    }
   ],
   "source": [
    "# Problem 2.3 CTCI\n",
    "def delete_middle(A):\n",
    "    curr = A\n",
    "    next = curr.next\n",
    "    prev = None\n",
    "    while next != None:\n",
    "        prev = curr\n",
    "        curr.val = next.val\n",
    "        curr = next\n",
    "        next = next.next\n",
    "    prev.next = None\n",
    "\n",
    "A = ListNode(1, \n",
    "             ListNode(2, \n",
    "                      ListNode(3, \n",
    "                               ListNode(4, \n",
    "                                        ListNode(5, \n",
    "                                                 None\n",
    "                                                )\n",
    "                                       )\n",
    "                              )\n",
    "                     )\n",
    "            )\n",
    "\n",
    "C = A.next.next\n",
    "\n",
    "print(A)\n",
    "delete_middle(C)\n",
    "print(A)\n",
    "\n",
    "B = ListNode(1,\n",
    "            ListNode(2,\n",
    "                    ListNode(3,\n",
    "                            None)))\n",
    "\n",
    "print(B)\n",
    "delete_middle(B.next)\n",
    "print(B)"
   ]
  }
 ],
 "metadata": {
  "kernelspec": {
   "display_name": "Python 2",
   "language": "python",
   "name": "python2"
  },
  "language_info": {
   "codemirror_mode": {
    "name": "ipython",
    "version": 2
   },
   "file_extension": ".py",
   "mimetype": "text/x-python",
   "name": "python",
   "nbconvert_exporter": "python",
   "pygments_lexer": "ipython2",
   "version": "2.7.12"
  }
 },
 "nbformat": 4,
 "nbformat_minor": 1
}
