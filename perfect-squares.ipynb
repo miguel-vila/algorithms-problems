{
 "cells": [
  {
   "cell_type": "code",
   "execution_count": 32,
   "metadata": {
    "collapsed": false
   },
   "outputs": [
    {
     "data": {
      "text/plain": [
       "3"
      ]
     },
     "execution_count": 32,
     "metadata": {},
     "output_type": "execute_result"
    }
   ],
   "source": [
    "#https://leetcode.com/problems/perfect-squares/\n",
    "import math\n",
    "class Solution(object):\n",
    "    def numSquares(self, n):\n",
    "        m = int(math.floor(math.sqrt(n)))\n",
    "        #print(\"m = \"+str(m))\n",
    "        M = [1] + range(1,n+1)\n",
    "        for i in range(1,m+1):\n",
    "            new = [1]\n",
    "            for j in range(1,n+1):\n",
    "                min_ = M[j]\n",
    "                if j - i*i == 0:\n",
    "                    #print(\"comparing \"+str(min_)+\" with \"+str(new[j-i*i]+1))\n",
    "                    min_ = 1\n",
    "                elif j - i*i > 0:\n",
    "                    min_ = min(min_, new[j-i*i]+1)\n",
    "                new.append(min_)\n",
    "            #print(new)\n",
    "            M = new\n",
    "        return M[-1]\n",
    "    \n",
    "s = Solution().numSquares\n",
    "assert(s(12) == 3)\n",
    "assert(s(13) == 2)\n",
    "assert(s(2) == 2)\n",
    "assert(s(4) == 1)\n",
    "s(4635)"
   ]
  }
 ],
 "metadata": {
  "kernelspec": {
   "display_name": "Python 2",
   "language": "python",
   "name": "python2"
  },
  "language_info": {
   "codemirror_mode": {
    "name": "ipython",
    "version": 2
   },
   "file_extension": ".py",
   "mimetype": "text/x-python",
   "name": "python",
   "nbconvert_exporter": "python",
   "pygments_lexer": "ipython2",
   "version": "2.7.12"
  }
 },
 "nbformat": 4,
 "nbformat_minor": 1
}
