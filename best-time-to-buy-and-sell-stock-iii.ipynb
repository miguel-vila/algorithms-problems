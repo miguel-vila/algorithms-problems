{
 "cells": [
  {
   "cell_type": "code",
   "execution_count": 13,
   "metadata": {
    "collapsed": false
   },
   "outputs": [
    {
     "name": "stdout",
     "output_type": "stream",
     "text": [
      "[0, 0, 4, 4, 5, 5]\n"
     ]
    },
    {
     "data": {
      "text/plain": [
       "[(1, 4), (2, 5), (3, 6)]"
      ]
     },
     "execution_count": 13,
     "metadata": {},
     "output_type": "execute_result"
    }
   ],
   "source": [
    "# https://leetcode.com/problems/best-time-to-buy-and-sell-stock-iii/\n",
    "class Solution(object):\n",
    "    def maxProfit(self, prices):\n",
    "        \"\"\"\n",
    "        :type prices: List[int]\n",
    "        :rtype: int\n",
    "        \"\"\"\n",
    "        if not prices:\n",
    "            return 0\n",
    "\n",
    "        min_price = prices[0]\n",
    "        max_diff = 0\n",
    "        forwards = [0]\n",
    "        for i in range(1, len(prices)):\n",
    "            min_price = min(min_price, prices[i])\n",
    "            max_diff = max(max_diff, prices[i] - min_price)\n",
    "            forwards.append(max_diff)\n",
    "\n",
    "        max_diff = 0\n",
    "        max_price = prices[-1]\n",
    "        backwards = [0]\n",
    "        for i in range(len(prices)-2, -1, -1):\n",
    "            max_price = max(max_price, prices[i])\n",
    "            max_diff = max(max_price - prices[i], max_diff)\n",
    "            backwards.append(max_diff)\n",
    "        backwards.reverse()\n",
    "\n",
    "        max_total = forwards[-1]\n",
    "        for i in range(1, len(prices)):\n",
    "            max_total = max(max_total, forwards[i-1]+backwards[i])\n",
    "\n",
    "        return max_total\n"
   ]
  }
 ],
 "metadata": {
  "kernelspec": {
   "display_name": "Python 2",
   "language": "python",
   "name": "python2"
  },
  "language_info": {
   "codemirror_mode": {
    "name": "ipython",
    "version": 2
   },
   "file_extension": ".py",
   "mimetype": "text/x-python",
   "name": "python",
   "nbconvert_exporter": "python",
   "pygments_lexer": "ipython2",
   "version": "2.7.12"
  }
 },
 "nbformat": 4,
 "nbformat_minor": 1
}
