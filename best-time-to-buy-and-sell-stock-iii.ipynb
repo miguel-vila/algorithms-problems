{
 "cells": [
  {
   "cell_type": "code",
   "execution_count": 13,
   "metadata": {
    "collapsed": false
   },
   "outputs": [
    {
     "name": "stdout",
     "output_type": "stream",
     "text": [
      "[0, 0, 4, 4, 5, 5]\n"
     ]
    },
    {
     "data": {
      "text/plain": [
       "[(1, 4), (2, 5), (3, 6)]"
      ]
     },
     "execution_count": 13,
     "metadata": {},
     "output_type": "execute_result"
    }
   ],
   "source": [
    "class Solution(object):\n",
    "\n",
    "    def solve(self,prices):\n",
    "        Min = prices[0]\n",
    "        S = [0]\n",
    "        for price in prices[1:]:\n",
    "            Min = min(Min, price)\n",
    "            S.append(max(\n",
    "                    S[-1],\n",
    "                    price - Min\n",
    "            ))\n",
    "        return S\n",
    "    \n",
    "    def maxProfit(self,prices):\n",
    "        if prices == []:\n",
    "            return 0\n",
    "        print self.solve(prices)\n",
    "        Min = prices[-1]\n",
    "        S = [0]\n",
    "        for i in range(len(prices)-2,-1,-1):\n",
    "            price = prices[i]\n",
    "            Min = min(Min,price)\n",
    "            S.append(max(S[-1], price - Min))\n",
    "s = Solution().maxProfit\n",
    "s([7,1,5,3,6,4])\n",
    "range(len([2,5,6,3,4])-2,-1,-1)\n",
    "zip([1,2,3],[4,5,6])"
   ]
  }
 ],
 "metadata": {
  "kernelspec": {
   "display_name": "Python 2",
   "language": "python",
   "name": "python2"
  },
  "language_info": {
   "codemirror_mode": {
    "name": "ipython",
    "version": 2
   },
   "file_extension": ".py",
   "mimetype": "text/x-python",
   "name": "python",
   "nbconvert_exporter": "python",
   "pygments_lexer": "ipython2",
   "version": "2.7.12"
  }
 },
 "nbformat": 4,
 "nbformat_minor": 1
}
