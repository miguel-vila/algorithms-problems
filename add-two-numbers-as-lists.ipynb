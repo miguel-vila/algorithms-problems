{
 "cells": [
  {
   "cell_type": "code",
   "execution_count": 13,
   "metadata": {
    "collapsed": false
   },
   "outputs": [
    {
     "data": {
      "text/plain": [
       "7 -> 0 -> 8 -> None"
      ]
     },
     "execution_count": 13,
     "metadata": {},
     "output_type": "execute_result"
    }
   ],
   "source": [
    "class ListNode:\n",
    "    def __init__(self, x, next = None):\n",
    "        self.val = x\n",
    "        self.next = next\n",
    "    def __repr__(self):\n",
    "        return str(self.val) + \" -> \" + str(self.next)\n",
    "    \n",
    "class Solution:\n",
    "    # @param A : head node of linked list\n",
    "    # @param B : head node of linked list\n",
    "    # @return the head node in the linked list\n",
    "    def number(self, A):\n",
    "        factor = 1\n",
    "        curr = A\n",
    "        total = 0\n",
    "        while curr != None:\n",
    "            total += factor*curr.val\n",
    "            factor *= 10\n",
    "            curr = curr.next\n",
    "        return total\n",
    "    def addTwoNumbers(self, A, B):\n",
    "        total = self.number(A) + self.number(B)\n",
    "        return self.build(total)\n",
    "    \n",
    "    def build(self,n):\n",
    "        digits = str(n)[::-1]\n",
    "        root = ListNode(int(digits[0]))\n",
    "        node = root\n",
    "        for d in digits[1:]:\n",
    "            next = ListNode(int(d))\n",
    "            node.next = next\n",
    "            node = next\n",
    "        return root\n",
    "A = ListNode(2,\n",
    "            ListNode(4,\n",
    "                    ListNode(3,\n",
    "                            None)))\n",
    "\n",
    "B = ListNode(5,\n",
    "            ListNode(6,\n",
    "                    ListNode(4,\n",
    "                            None)))\n",
    "\n",
    "s = Solution()\n",
    "s.addTwoNumbers(A,B)"
   ]
  }
 ],
 "metadata": {
  "kernelspec": {
   "display_name": "Python 2",
   "language": "python",
   "name": "python2"
  },
  "language_info": {
   "codemirror_mode": {
    "name": "ipython",
    "version": 2
   },
   "file_extension": ".py",
   "mimetype": "text/x-python",
   "name": "python",
   "nbconvert_exporter": "python",
   "pygments_lexer": "ipython2",
   "version": "2.7.12"
  }
 },
 "nbformat": 4,
 "nbformat_minor": 1
}
