{
 "cells": [
  {
   "cell_type": "code",
   "execution_count": 31,
   "metadata": {
    "collapsed": false
   },
   "outputs": [
    {
     "name": "stdout",
     "output_type": "stream",
     "text": [
      "[4, 7]\n",
      "[2, 6]\n",
      "[3, 4, 9]\n",
      "[3, 5, 8]\n",
      "[6, 9]\n",
      "[7, 8]\n"
     ]
    },
    {
     "data": {
      "text/plain": [
       "8"
      ]
     },
     "execution_count": 31,
     "metadata": {},
     "output_type": "execute_result"
    }
   ],
   "source": [
    "#https://leetcode.com/problems/minimum-path-sum/\n",
    "class Solution(object):\n",
    "    def minPathSum(self, grid):\n",
    "        M = [grid[0][0]]\n",
    "        for i in range(1,len(grid[0])):\n",
    "            M.append(M[-1]+grid[0][i])\n",
    "        for i in range(1,len(grid)):\n",
    "            new = [grid[i][0]+M[0]]\n",
    "            for j in range(1,len(grid[i])):\n",
    "                new.append( min(new[-1],M[j]) + grid[i][j] )\n",
    "            M = new\n",
    "        return M[-1]\n",
    "s = Solution().minPathSum\n",
    "assert(s([[2]]) == 2)\n",
    "assert(s([[1,2],\n",
    "         [3,4]]) == 7)\n",
    "assert(s([[1,2],\n",
    "         [1,4]]) == 6)\n",
    "assert(s([\n",
    "        [1,0,3],\n",
    "        [2,3,5],\n",
    "        [0,2,3]\n",
    "  ]) == 8)\n",
    "s([[1,2],[5,6],[1,1]])\n"
   ]
  }
 ],
 "metadata": {
  "kernelspec": {
   "display_name": "Python 2",
   "language": "python",
   "name": "python2"
  },
  "language_info": {
   "codemirror_mode": {
    "name": "ipython",
    "version": 2
   },
   "file_extension": ".py",
   "mimetype": "text/x-python",
   "name": "python",
   "nbconvert_exporter": "python",
   "pygments_lexer": "ipython2",
   "version": "2.7.12"
  }
 },
 "nbformat": 4,
 "nbformat_minor": 1
}
