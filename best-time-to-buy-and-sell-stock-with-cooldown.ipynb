{
 "cells": [
  {
   "cell_type": "code",
   "execution_count": 9,
   "metadata": {
    "collapsed": false
   },
   "outputs": [
    {
     "data": {
      "text/plain": [
       "1"
      ]
     },
     "execution_count": 9,
     "metadata": {},
     "output_type": "execute_result"
    }
   ],
   "source": [
    "#https://leetcode.com/problems/best-time-to-buy-and-sell-stock-with-cooldown/\n",
    "class Solution(object):\n",
    "    def maxProfit(self, prices):\n",
    "        \"\"\"\n",
    "        :type prices: List[int]\n",
    "        :rtype: int\n",
    "        \"\"\"\n",
    "        if not prices:\n",
    "            return 0\n",
    "        best_buy = -prices[0]\n",
    "        best_sell = 0\n",
    "        sold_last_time = False\n",
    "        for price in prices[1:]:\n",
    "            new_best_buy = max(best_sell - price, best_buy)\n",
    "            sold_last_time = best_buy + price > best_sell and not sold_last_time\n",
    "            new_best_sell = best_buy + price if sold_last_time else best_sell\n",
    "            best_buy = new_best_buy\n",
    "            best_sell = new_best_sell\n",
    "        return best_sell\n",
    "s = Solution().maxProfit\n",
    "#s([1, 2, 3, 0, 2])\n",
    "#s([1,2,4])\n",
    "s([1,2])"
   ]
  }
 ],
 "metadata": {
  "kernelspec": {
   "display_name": "Python 2",
   "language": "python",
   "name": "python2"
  },
  "language_info": {
   "codemirror_mode": {
    "name": "ipython",
    "version": 2
   },
   "file_extension": ".py",
   "mimetype": "text/x-python",
   "name": "python",
   "nbconvert_exporter": "python",
   "pygments_lexer": "ipython2",
   "version": "2.7.12"
  }
 },
 "nbformat": 4,
 "nbformat_minor": 1
}
