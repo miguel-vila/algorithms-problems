{
 "cells": [
  {
   "cell_type": "code",
   "execution_count": 37,
   "metadata": {
    "collapsed": false
   },
   "outputs": [],
   "source": [
    "#https://leetcode.com/problems/wiggle-subsequence/\n",
    "compare = lambda t: t[0]\n",
    "class Solution(object):\n",
    "    def wiggleMaxLength(self, nums):\n",
    "        if len(nums) == 0:\n",
    "            return 0\n",
    "        M = [(1,0)] # number, signs\n",
    "        for i in range(1,len(nums)):\n",
    "            pos_sols = [(n, signs) for (j,(n,signs)) in enumerate(M[0:i]) if signs <=0 and nums[j] < nums[i]]\n",
    "            neg_sols = [(n, signs) for (j,(n,signs)) in enumerate(M[0:i]) if signs >=0 and nums[j] > nums[i]]\n",
    "            max_pos = (-1,-1) if len(pos_sols) == 0 else max(pos_sols, key=compare)\n",
    "            max_neg = (-1,-1) if len(neg_sols) == 0 else max(neg_sols, key=compare)\n",
    "            if max_pos[0] == max_neg[0]:\n",
    "                M.append( (max_pos[0]+ 1, 0) ) #both signs\n",
    "            else:\n",
    "                sol = max(max_pos, max_neg, key=compare)\n",
    "                sign = +1 if sol == max_pos else -1\n",
    "                M.append( (sol[0] + 1,sign) )\n",
    "        return max(M, key=compare)[0]\n",
    "sol = Solution().wiggleMaxLength\n",
    "arr = [(1,0)]\n",
    "assert(sol([]) == 0)\n",
    "assert(sol([1,17,5,10,13,15,10,5,16,8]) == 7)\n",
    "assert(sol([1,7,4,9,2,5]) == 6)\n",
    "assert(sol([1,2,3,4,5,6,7,8,9]) == 2)"
   ]
  }
 ],
 "metadata": {
  "kernelspec": {
   "display_name": "Python 2",
   "language": "python",
   "name": "python2"
  },
  "language_info": {
   "codemirror_mode": {
    "name": "ipython",
    "version": 2
   },
   "file_extension": ".py",
   "mimetype": "text/x-python",
   "name": "python",
   "nbconvert_exporter": "python",
   "pygments_lexer": "ipython2",
   "version": "2.7.12"
  }
 },
 "nbformat": 4,
 "nbformat_minor": 1
}
